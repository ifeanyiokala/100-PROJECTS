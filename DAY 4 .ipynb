{
 "cells": [
  {
   "cell_type": "markdown",
   "id": "ee747169",
   "metadata": {},
   "source": [
    "# Rock Paper Sisscor Game"
   ]
  },
  {
   "cell_type": "code",
   "execution_count": 27,
   "id": "b5d9f842",
   "metadata": {},
   "outputs": [
    {
     "name": "stdout",
     "output_type": "stream",
     "text": [
      "Welcome to the Rock Paper Scissor Game, i hope you have fun\n",
      "What do you choose? Type 0 for Rock, 1 for Paper or 2 for Scissors.1\n",
      "\n",
      "    _______\n",
      "---'   ____)____\n",
      "          ______)\n",
      "          _______)\n",
      "         _______)\n",
      "---.__________)\n",
      " Wins, Goodluck Next Time\n"
     ]
    }
   ],
   "source": [
    "Rock = '''\n",
    "    _______\n",
    "---'   ____)\n",
    "      (_____)\n",
    "      (_____)\n",
    "      (____)\n",
    "---.__(___)\n",
    "'''\n",
    "\n",
    "Paper = '''\n",
    "    _______\n",
    "---'   ____)____\n",
    "          ______)\n",
    "          _______)\n",
    "         _______)\n",
    "---.__________)\n",
    "'''\n",
    "\n",
    "Scissors = '''\n",
    "    _______\n",
    "---'   ____)____\n",
    "          ______)\n",
    "       __________)\n",
    "      (____)\n",
    "---.__(___)\n",
    "'''\n",
    "\n",
    "import random\n",
    "print('Welcome to the Rock Paper Scissor Game, i hope you have fun')\n",
    "\n",
    "\n",
    "user = int(input(\"What do you choose? Type 0 for Rock, 1 for Paper or 2 for Scissors.\"))\n",
    "\n",
    "computer = random.randint(0,2)\n",
    "\n",
    "\n",
    "if user == computer:\n",
    "    print(\"It was a draw\")\n",
    "\n",
    "elif user == 0:\n",
    "    if computer == 1:\n",
    "        print(f'{Paper} wins,Goodluck Next Time')\n",
    "    elif computer == 2:\n",
    "        print(f'{Rock} wins,Goodluck Next Time')\n",
    "    else : \n",
    "        print('User Error')\n",
    "\n",
    "\n",
    "elif user == 1:\n",
    "    if computer == 0:\n",
    "        print (f'{Paper} Wins, Goodluck Next Time')\n",
    "    elif computer == 2:\n",
    "        print(f'{Scissors} Wins, Goodluck Next Time')\n",
    "    else : \n",
    "        print('User Error')\n",
    "\n",
    "elif user == 2:\n",
    "    if computer == 0:\n",
    "        print(f'{Rock} Wins, Goodluck Next Time')\n",
    "    elif computer == 1:\n",
    "        print(f'{Scissors} Wins, Goodluck Next Time')\n",
    "    else : \n",
    "        print('User Error')\n",
    "        \n",
    "else: \n",
    "    print('sorry')\n",
    "\n",
    "        \n",
    "        \n",
    "\n",
    "\n",
    "\n",
    "        \n",
    "    "
   ]
  },
  {
   "cell_type": "code",
   "execution_count": null,
   "id": "8ab11bc3",
   "metadata": {},
   "outputs": [],
   "source": []
  }
 ],
 "metadata": {
  "kernelspec": {
   "display_name": "Python 3",
   "language": "python",
   "name": "python3"
  },
  "language_info": {
   "codemirror_mode": {
    "name": "ipython",
    "version": 3
   },
   "file_extension": ".py",
   "mimetype": "text/x-python",
   "name": "python",
   "nbconvert_exporter": "python",
   "pygments_lexer": "ipython3",
   "version": "3.8.8"
  }
 },
 "nbformat": 4,
 "nbformat_minor": 5
}
