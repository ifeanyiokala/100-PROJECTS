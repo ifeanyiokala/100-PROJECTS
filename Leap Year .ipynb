{
 "cells": [
  {
   "cell_type": "code",
   "execution_count": 1,
   "id": "3a28b687",
   "metadata": {},
   "outputs": [
    {
     "name": "stdout",
     "output_type": "stream",
     "text": [
      "Which year do you want to check? 1987\n",
      "Not leap year\n"
     ]
    }
   ],
   "source": [
    "# 🚨 Don't change the code below 👇\n",
    "year = int(input(\"Which year do you want to check? \"))\n",
    "# 🚨 Don't change the code above 👆\n",
    "\n",
    "#Write your code below this line 👇\n",
    "if year % 4 != 0:\n",
    "    print('Not leap year')\n",
    "elif year % 100 !=0:\n",
    "    print('Leap year ')\n",
    "elif year % 400 !=0:\n",
    "    print(' Not leap year')\n",
    "else :\n",
    "    print('Leap year')"
   ]
  },
  {
   "cell_type": "code",
   "execution_count": 5,
   "id": "6ffe7cab",
   "metadata": {},
   "outputs": [
    {
     "ename": "SyntaxError",
     "evalue": "invalid syntax (<ipython-input-5-77fd05327177>, line 13)",
     "output_type": "error",
     "traceback": [
      "\u001b[1;36m  File \u001b[1;32m\"<ipython-input-5-77fd05327177>\"\u001b[1;36m, line \u001b[1;32m13\u001b[0m\n\u001b[1;33m    if ((size == S) and (add_pepperoni = (Y) or (N)) and (extra_cheese = (Y) or (N))) or       ((size == M) and (add_pepperoni = (Y) or (N)) and (extra_cheese = (Y) or (N))) or       ((size == L) and (add_pepperoni = (Y) or (N)) and (extra_cheese = (Y) or (N))) :\u001b[0m\n\u001b[1;37m                                       ^\u001b[0m\n\u001b[1;31mSyntaxError\u001b[0m\u001b[1;31m:\u001b[0m invalid syntax\n"
     ]
    }
   ],
   "source": [
    "# 🚨 Don't change the code below 👇\n",
    "print(\"Welcome to Python Pizza Deliveries!\")\n",
    "size = input(\"What size pizza do you want? S, M, or L \")\n",
    "add_pepperoni = input(\"Do you want pepperoni? Y or N \")\n",
    "extra_cheese = input(\"Do you want extra cheese? Y or N \")\n",
    "# 🚨 Don't change the code above 👆\n",
    "\n",
    "S = 15\n",
    "M = 20 \n",
    "L = 25\n",
    "bill = 0 \n",
    "\n",
    "if ((size == S) and (add_pepperoni = (Y) or (N)) and (extra_cheese = (Y) or (N))) or       ((size == M) and (add_pepperoni = (Y) or (N)) and (extra_cheese = (Y) or (N))) or       ((size == L) and (add_pepperoni = (Y) or (N)) and (extra_cheese = (Y) or (N))) :\n",
    "    bill = size + add_pepperoni + extra_cheese + 0 \n",
    "if add_pepperoni == Y  :\n",
    "    bill = size + 0 \n",
    "elif size = L :\n",
    "    bill = size + 0 \n"
   ]
  },
  {
   "cell_type": "code",
   "execution_count": null,
   "id": "8cc67396",
   "metadata": {},
   "outputs": [],
   "source": []
  }
 ],
 "metadata": {
  "kernelspec": {
   "display_name": "Python 3",
   "language": "python",
   "name": "python3"
  },
  "language_info": {
   "codemirror_mode": {
    "name": "ipython",
    "version": 3
   },
   "file_extension": ".py",
   "mimetype": "text/x-python",
   "name": "python",
   "nbconvert_exporter": "python",
   "pygments_lexer": "ipython3",
   "version": "3.8.8"
  }
 },
 "nbformat": 4,
 "nbformat_minor": 5
}
