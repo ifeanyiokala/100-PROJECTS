{
 "cells": [
  {
   "cell_type": "markdown",
   "id": "ad255105",
   "metadata": {},
   "source": [
    "# BAND NAME GENERATOR - DAY 1 "
   ]
  },
  {
   "cell_type": "code",
   "execution_count": 3,
   "id": "4b321b59",
   "metadata": {},
   "outputs": [],
   "source": [
    "#Create a greeting  for your programme"
   ]
  },
  {
   "cell_type": "code",
   "execution_count": 4,
   "id": "6fdb0c2e",
   "metadata": {},
   "outputs": [],
   "source": [
    "# Ask the User for the city that they grew up in "
   ]
  },
  {
   "cell_type": "code",
   "execution_count": 5,
   "id": "10b1ba0c",
   "metadata": {},
   "outputs": [],
   "source": [
    "# Ask the user for the name of the pet "
   ]
  },
  {
   "cell_type": "code",
   "execution_count": 6,
   "id": "bc8e8fa7",
   "metadata": {},
   "outputs": [],
   "source": [
    "# Combine the name of their city and pet and show the them thier band name "
   ]
  },
  {
   "cell_type": "code",
   "execution_count": 17,
   "id": "f02dd6a7",
   "metadata": {},
   "outputs": [
    {
     "name": "stdout",
     "output_type": "stream",
     "text": [
      "Welcome to the Band Name Generator . \n",
      "What city did you grow up in ? \n",
      "Lagos\n",
      "What's the name of your pet ? \n",
      "Bane\n",
      "Your name could be Lagos Bane\n"
     ]
    }
   ],
   "source": [
    "\n",
    "print(\"Welcome to the Band Name Generator . \")\n",
    "\n",
    "city = input(\"What city did you grow up in ? \\n\")\n",
    "\n",
    "name = input(\"What's the name of your pet ? \\n\")\n",
    "\n",
    "print(\"Your name could be \" + city + \" \" + name)\n"
   ]
  },
  {
   "cell_type": "code",
   "execution_count": 25,
   "id": "0087086d",
   "metadata": {},
   "outputs": [
    {
     "name": "stdout",
     "output_type": "stream",
     "text": [
      "enter your height in m: 4.3\n",
      "enter your weight in kg: 45\n",
      "2\n"
     ]
    }
   ],
   "source": [
    "# 🚨 Don't change the code below 👇\n",
    "height = input(\"enter your height in m: \")\n",
    "weight = input(\"enter your weight in kg: \")\n",
    "# 🚨 Don't change the code above 👆\n",
    "\n",
    "#Write your code below this line 👇\n",
    "new = float(height)**2\n",
    "BMI = (int(weight)/(new))\n",
    "print(int(BMI))"
   ]
  },
  {
   "cell_type": "code",
   "execution_count": 29,
   "id": "9dfd580a",
   "metadata": {},
   "outputs": [
    {
     "name": "stdout",
     "output_type": "stream",
     "text": [
      "What is your current age?56\n",
      "You have 12410 days, 1768 weeks, and 408 months left\n"
     ]
    }
   ],
   "source": [
    "# 🚨 Don't change the code below 👇\n",
    "age = input(\"What is your current age?\")\n",
    "# 🚨 Don't change the code above 👆\n",
    "\n",
    "#Write your code below this line 👇\n",
    "days = 90*365\n",
    "week = 52*90\n",
    "month = 12*90\n",
    "\n",
    "new_days = days - int(age)*365\n",
    "new_week = week - int(age)*52\n",
    "new_month = month - int(age)*12\n",
    "\n",
    "print(\"You have {0} days, {1} weeks, and {2} months left\".format(new_days,new_week,new_month))"
   ]
  },
  {
   "cell_type": "code",
   "execution_count": null,
   "id": "7ff2aa70",
   "metadata": {},
   "outputs": [],
   "source": []
  }
 ],
 "metadata": {
  "kernelspec": {
   "display_name": "Python 3",
   "language": "python",
   "name": "python3"
  },
  "language_info": {
   "codemirror_mode": {
    "name": "ipython",
    "version": 3
   },
   "file_extension": ".py",
   "mimetype": "text/x-python",
   "name": "python",
   "nbconvert_exporter": "python",
   "pygments_lexer": "ipython3",
   "version": "3.8.8"
  }
 },
 "nbformat": 4,
 "nbformat_minor": 5
}
