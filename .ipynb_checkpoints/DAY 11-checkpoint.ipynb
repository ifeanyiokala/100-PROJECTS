{
 "cells": [
  {
   "cell_type": "code",
   "execution_count": 6,
   "id": "ce294624",
   "metadata": {},
   "outputs": [
    {
     "name": "stdout",
     "output_type": "stream",
     "text": [
      "[2, 10]\n",
      "[3, 8]\n"
     ]
    },
    {
     "ename": "KeyboardInterrupt",
     "evalue": "Interrupted by user",
     "output_type": "error",
     "traceback": [
      "\u001b[1;31m---------------------------------------------------------------------------\u001b[0m",
      "\u001b[1;31mKeyboardInterrupt\u001b[0m                         Traceback (most recent call last)",
      "\u001b[1;32m<ipython-input-6-3a7a2f72e911>\u001b[0m in \u001b[0;36m<module>\u001b[1;34m\u001b[0m\n\u001b[0;32m     66\u001b[0m \u001b[1;33m\u001b[0m\u001b[0m\n\u001b[0;32m     67\u001b[0m \u001b[1;33m\u001b[0m\u001b[0m\n\u001b[1;32m---> 68\u001b[1;33m \u001b[0mgame_cards\u001b[0m\u001b[1;33m(\u001b[0m\u001b[1;33m)\u001b[0m\u001b[1;33m\u001b[0m\u001b[1;33m\u001b[0m\u001b[0m\n\u001b[0m\u001b[0;32m     69\u001b[0m \u001b[1;33m\u001b[0m\u001b[0m\n\u001b[0;32m     70\u001b[0m \u001b[1;33m\u001b[0m\u001b[0m\n",
      "\u001b[1;32m<ipython-input-6-3a7a2f72e911>\u001b[0m in \u001b[0;36mgame_cards\u001b[1;34m()\u001b[0m\n\u001b[0;32m     30\u001b[0m             \u001b[0mprint\u001b[0m\u001b[1;33m(\u001b[0m\u001b[1;34m\"Computer wins,You lose\"\u001b[0m\u001b[1;33m)\u001b[0m\u001b[1;33m\u001b[0m\u001b[1;33m\u001b[0m\u001b[0m\n\u001b[0;32m     31\u001b[0m     \u001b[1;32melse\u001b[0m \u001b[1;33m:\u001b[0m\u001b[1;33m\u001b[0m\u001b[1;33m\u001b[0m\u001b[0m\n\u001b[1;32m---> 32\u001b[1;33m         \u001b[0mdraw\u001b[0m \u001b[1;33m=\u001b[0m \u001b[0minput\u001b[0m\u001b[1;33m(\u001b[0m\u001b[1;34m\"Would you want to draw another card ?, 'Yes' or 'No' \"\u001b[0m\u001b[1;33m)\u001b[0m\u001b[1;33m\u001b[0m\u001b[1;33m\u001b[0m\u001b[0m\n\u001b[0m\u001b[0;32m     33\u001b[0m \u001b[1;33m\u001b[0m\u001b[0m\n\u001b[0;32m     34\u001b[0m     \u001b[1;32mif\u001b[0m \u001b[0mdraw\u001b[0m \u001b[1;33m==\u001b[0m \u001b[1;34m'Yes'\u001b[0m\u001b[1;33m:\u001b[0m\u001b[1;33m\u001b[0m\u001b[1;33m\u001b[0m\u001b[0m\n",
      "\u001b[1;32m~\\anaconda3new\\lib\\site-packages\\ipykernel\\kernelbase.py\u001b[0m in \u001b[0;36mraw_input\u001b[1;34m(self, prompt)\u001b[0m\n\u001b[0;32m    858\u001b[0m                 \u001b[1;34m\"raw_input was called, but this frontend does not support input requests.\"\u001b[0m\u001b[1;33m\u001b[0m\u001b[1;33m\u001b[0m\u001b[0m\n\u001b[0;32m    859\u001b[0m             )\n\u001b[1;32m--> 860\u001b[1;33m         return self._input_request(str(prompt),\n\u001b[0m\u001b[0;32m    861\u001b[0m             \u001b[0mself\u001b[0m\u001b[1;33m.\u001b[0m\u001b[0m_parent_ident\u001b[0m\u001b[1;33m,\u001b[0m\u001b[1;33m\u001b[0m\u001b[1;33m\u001b[0m\u001b[0m\n\u001b[0;32m    862\u001b[0m             \u001b[0mself\u001b[0m\u001b[1;33m.\u001b[0m\u001b[0m_parent_header\u001b[0m\u001b[1;33m,\u001b[0m\u001b[1;33m\u001b[0m\u001b[1;33m\u001b[0m\u001b[0m\n",
      "\u001b[1;32m~\\anaconda3new\\lib\\site-packages\\ipykernel\\kernelbase.py\u001b[0m in \u001b[0;36m_input_request\u001b[1;34m(self, prompt, ident, parent, password)\u001b[0m\n\u001b[0;32m    902\u001b[0m             \u001b[1;32mexcept\u001b[0m \u001b[0mKeyboardInterrupt\u001b[0m\u001b[1;33m:\u001b[0m\u001b[1;33m\u001b[0m\u001b[1;33m\u001b[0m\u001b[0m\n\u001b[0;32m    903\u001b[0m                 \u001b[1;31m# re-raise KeyboardInterrupt, to truncate traceback\u001b[0m\u001b[1;33m\u001b[0m\u001b[1;33m\u001b[0m\u001b[1;33m\u001b[0m\u001b[0m\n\u001b[1;32m--> 904\u001b[1;33m                 \u001b[1;32mraise\u001b[0m \u001b[0mKeyboardInterrupt\u001b[0m\u001b[1;33m(\u001b[0m\u001b[1;34m\"Interrupted by user\"\u001b[0m\u001b[1;33m)\u001b[0m \u001b[1;32mfrom\u001b[0m \u001b[1;32mNone\u001b[0m\u001b[1;33m\u001b[0m\u001b[1;33m\u001b[0m\u001b[0m\n\u001b[0m\u001b[0;32m    905\u001b[0m             \u001b[1;32mexcept\u001b[0m \u001b[0mException\u001b[0m \u001b[1;32mas\u001b[0m \u001b[0me\u001b[0m\u001b[1;33m:\u001b[0m\u001b[1;33m\u001b[0m\u001b[1;33m\u001b[0m\u001b[0m\n\u001b[0;32m    906\u001b[0m                 \u001b[0mself\u001b[0m\u001b[1;33m.\u001b[0m\u001b[0mlog\u001b[0m\u001b[1;33m.\u001b[0m\u001b[0mwarning\u001b[0m\u001b[1;33m(\u001b[0m\u001b[1;34m\"Invalid Message:\"\u001b[0m\u001b[1;33m,\u001b[0m \u001b[0mexc_info\u001b[0m\u001b[1;33m=\u001b[0m\u001b[1;32mTrue\u001b[0m\u001b[1;33m)\u001b[0m\u001b[1;33m\u001b[0m\u001b[1;33m\u001b[0m\u001b[0m\n",
      "\u001b[1;31mKeyboardInterrupt\u001b[0m: Interrupted by user"
     ]
    }
   ],
   "source": [
    "import random\n",
    "#from replit import clear\n",
    "from art import logo\n",
    "\n",
    "\n",
    "\n",
    "def game_cards():\n",
    "    cards = [11, 2, 3, 4, 5, 6, 7, 8, 9, 10, 10, 10, 10]\n",
    "    user = random.sample(cards,2)\n",
    "    computer = random.sample(cards,2)\n",
    "    print(user)\n",
    "    print(computer)\n",
    "\n",
    "    sum_user = sum(user)\n",
    "    sum_computer = sum(computer)\n",
    "\n",
    "    if 11 in user and 10 in user :\n",
    "        print(\"User has a blackjack\")\n",
    "        print(\"User Wins\")\n",
    "    elif 11 in computer and 10 in computer :\n",
    "        print(\"Computer has a blackjack\")\n",
    "        print(\"Computer Wins, You Lose !\")\n",
    "    elif sum_user > 21 :\n",
    "        if 11 in sum_user :\n",
    "            new_user = user.replace(11,1)\n",
    "            sum_new_user = sum(new_user)\n",
    "        if sum_new_user > 21:\n",
    "            print(\"Computer wins,You lose\")\n",
    "        else:\n",
    "            print(\"Computer wins,You lose\")\n",
    "    else :\n",
    "        draw = input(\"Would you want to draw another card ?, 'Yes' or 'No' \")\n",
    "\n",
    "    if draw == 'Yes':\n",
    "        third_user = random.choice(cards)\n",
    "        user = user.append(third_user) \n",
    "        sum_user = sum(user)\n",
    "    if sum_user > 21 :\n",
    "        print('Computer wins,you lose')\n",
    "    if  sum_computer < 17 :\n",
    "        third_computer = random.choice(cards)\n",
    "        computer = computer.append(third_computer) \n",
    "        sum_comp = sum(computer)\n",
    "    if sum_comp > 21 :\n",
    "        print('You win,computer lost')\n",
    "    elif  21 >= sum_user > sum_comp :\n",
    "        print('You Win,well done !')\n",
    "    elif 21 >= sum_user < sum_comp :\n",
    "        print('Computer Wins,Sad')\n",
    "    elif sum_user == sum_comp:\n",
    "        print(\"It's a Draw\")\n",
    "\n",
    "    else:\n",
    "        if sum_computer < 17 :\n",
    "            third_computer = random.choice(cards)\n",
    "            computer = computer.append(third_computer) \n",
    "            sum_comp = sum(computer)\n",
    "        if sum_comp > 21 :\n",
    "            print('You win,computer lost')\n",
    "        elif  21 >= sum_user > sum_comp :\n",
    "            print('You Win,well done !')\n",
    "        elif 21 >= sum_user < sum_comp :\n",
    "            print('Computer Wins,Sad')\n",
    "        elif sum_user == sum_comp:\n",
    "            print(\"It's a Draw\")\n",
    "\n",
    "\n",
    "game_cards()\n",
    "\n",
    "\n",
    "Path = True\n",
    "\n",
    "while Path :  \n",
    "    end = input(\"Do you want to restart the game, Yes or No\")\n",
    "    if end == 'Yes':\n",
    "        clear()\n",
    "    else :\n",
    "        Path = False\n"
   ]
  },
  {
   "cell_type": "code",
   "execution_count": 8,
   "id": "b5a3128c",
   "metadata": {},
   "outputs": [],
   "source": [
    "user = [1,2,3]"
   ]
  },
  {
   "cell_type": "code",
   "execution_count": null,
   "id": "091af699",
   "metadata": {},
   "outputs": [],
   "source": []
  }
 ],
 "metadata": {
  "kernelspec": {
   "display_name": "Python 3",
   "language": "python",
   "name": "python3"
  },
  "language_info": {
   "codemirror_mode": {
    "name": "ipython",
    "version": 3
   },
   "file_extension": ".py",
   "mimetype": "text/x-python",
   "name": "python",
   "nbconvert_exporter": "python",
   "pygments_lexer": "ipython3",
   "version": "3.8.8"
  }
 },
 "nbformat": 4,
 "nbformat_minor": 5
}
