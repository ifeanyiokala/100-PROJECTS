{
 "cells": [
  {
   "cell_type": "code",
   "execution_count": null,
   "id": "abc695c3",
   "metadata": {},
   "outputs": [],
   "source": []
  },
  {
   "cell_type": "code",
   "execution_count": 42,
   "id": "41e0f049",
   "metadata": {},
   "outputs": [
    {
     "name": "stdout",
     "output_type": "stream",
     "text": [
      "Please What is Your Name ? : Temi\n",
      "What is your Bid price? : 122\n",
      "Are there any other users who would like to bid? . Yes or No  ? No\n",
      "Ifeanyi had the highest bid with 345. Try next time\n",
      "\n",
      "                         ___________\n",
      "                         \\         /\n",
      "                          )_______(\n",
      "                          |\"\"\"\"\"\"\"|_.-._,.---------.,_.-._\n",
      "                          |       | | |               | | ''-.\n",
      "                          |       |_| |_             _| |_..-'\n",
      "                          |_______| '-' `'---------'` '-'\n",
      "                          )\"\"\"\"\"\"\"(\n",
      "                         /_________\\\n",
      "                       .-------------.\n",
      "                      /_______________\\\n",
      "\n"
     ]
    }
   ],
   "source": [
    "from IPython.display import clear_output\n",
    "clear_output(wait=True)\n",
    "\n",
    "from art_2 import logo \n",
    "\n",
    "\n",
    "space = {}\n",
    "redo = True \n",
    "while redo :\n",
    "    name = input(\"Please What is Your Name ? : \")\n",
    "    Bid =  input('What is your Bid price? : ')\n",
    "    space[name] = Bid\n",
    "    others = input(\"Are there any other users who would like to bid? . Yes or No  ? \")\n",
    "    if others == \"No\":\n",
    "        redo = False \n",
    "        result = max(space,key = space.get)\n",
    "        all_values = space.values()\n",
    "        max_value = max(all_values)\n",
    "        print(f\"{result} had the highest bid with {max_value}. Try next time\")\n",
    "    else : \n",
    "        clear_output(wait = False)\n",
    "\n",
    "print(logo)"
   ]
  },
  {
   "cell_type": "code",
   "execution_count": null,
   "id": "01c0f58a",
   "metadata": {},
   "outputs": [],
   "source": []
  }
 ],
 "metadata": {
  "kernelspec": {
   "display_name": "Python 3",
   "language": "python",
   "name": "python3"
  },
  "language_info": {
   "codemirror_mode": {
    "name": "ipython",
    "version": 3
   },
   "file_extension": ".py",
   "mimetype": "text/x-python",
   "name": "python",
   "nbconvert_exporter": "python",
   "pygments_lexer": "ipython3",
   "version": "3.8.8"
  }
 },
 "nbformat": 4,
 "nbformat_minor": 5
}
