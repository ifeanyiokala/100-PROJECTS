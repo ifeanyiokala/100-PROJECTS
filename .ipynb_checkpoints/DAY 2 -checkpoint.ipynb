{
 "cells": [
  {
   "cell_type": "markdown",
   "id": "8b99c854",
   "metadata": {},
   "source": [
    "# TIP CALCULATOR  "
   ]
  },
  {
   "cell_type": "code",
   "execution_count": 17,
   "id": "2d53ff4d",
   "metadata": {},
   "outputs": [
    {
     "name": "stdout",
     "output_type": "stream",
     "text": [
      "Welcome to the tip calculator\n",
      "What was the total bill ? $55.67\n",
      "What percentage tip would you like to give 10,12,15 ? 12\n",
      "How many people to split the bill ?45\n",
      "Each person should pay: $0.15\n"
     ]
    }
   ],
   "source": [
    "#If the bill was $150.00, split between 5 people, with 12% tip. \n",
    "#Each person should pay (150.00 / 5) * 1.12 = 33.6\n",
    "#Round the result to 2 decimal places.\n",
    "\n",
    "print(\"Welcome to the tip calculator\")\n",
    "\n",
    "bill = input(\"What was the total bill ? $\")\n",
    "\n",
    "perc = input(\"What percentage tip would you like to give 10,12,15 ? \")\n",
    "\n",
    "num  = input(\"How many people to split the bill ?\" )\n",
    "\n",
    "##i asked the user for different questions and i saved their results as variables \n",
    "\n",
    "overall = (int(perc)/100 * float(bill))/int(num)\n",
    " ## i used the data i collected from the user to perfom my calculations\n",
    "    \n",
    "dp = round(overall,2)\n",
    "## i then rounded my result to decmimal places \n",
    "\n",
    "print(f'Each person should pay: ${dp}')\n",
    "    "
   ]
  },
  {
   "cell_type": "code",
   "execution_count": null,
   "id": "4755e54e",
   "metadata": {},
   "outputs": [],
   "source": []
  },
  {
   "cell_type": "code",
   "execution_count": null,
   "id": "a1e68841",
   "metadata": {},
   "outputs": [],
   "source": []
  }
 ],
 "metadata": {
  "kernelspec": {
   "display_name": "Python 3",
   "language": "python",
   "name": "python3"
  },
  "language_info": {
   "codemirror_mode": {
    "name": "ipython",
    "version": 3
   },
   "file_extension": ".py",
   "mimetype": "text/x-python",
   "name": "python",
   "nbconvert_exporter": "python",
   "pygments_lexer": "ipython3",
   "version": "3.8.8"
  }
 },
 "nbformat": 4,
 "nbformat_minor": 5
}
