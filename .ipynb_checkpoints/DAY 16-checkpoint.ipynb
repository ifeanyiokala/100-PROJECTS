{
 "cells": [
  {
   "cell_type": "markdown",
   "id": "33fb0f2a",
   "metadata": {},
   "source": [
    "# COFFEE MACHINE WITH OBJECT ORIENTED PROGRAMMING"
   ]
  },
  {
   "cell_type": "code",
   "execution_count": null,
   "id": "1d5e90f4",
   "metadata": {},
   "outputs": [
    {
     "name": "stdout",
     "output_type": "stream",
     "text": [
      "Water: 300ml\n",
      "Milk: 200ml\n",
      "Coffee: 100g\n",
      "Money: $0\n",
      "What would you like ? (latte/espresso/cappuccino/) latte\n",
      "Please insert coins.\n",
      "How many quarters?: 12\n",
      "How many dimes?: 12\n",
      "How many nickles?: 12\n",
      "How many pennies?: 12\n",
      "Here is $2.42 in change.\n",
      "Here is your latte ☕️. Enjoy!\n"
     ]
    }
   ],
   "source": [
    "from menu import Menu, MenuItem\n",
    "from coffee_maker import CoffeeMaker\n",
    "from money_machine import MoneyMachine\n",
    "\n",
    "money_bank = MoneyMachine()\n",
    "coffee_maker = CoffeeMaker()\n",
    "menu_maker = Menu()\n",
    "\n",
    "\n",
    "coffee_maker.report()\n",
    "money_bank.report()\n",
    "is_on = True \n",
    "\n",
    "while is_on:\n",
    "    options = menu_maker.get_items()\n",
    "    choice = input(f\"What would you like ? ({options}) \")\n",
    "    if choice == \"off\":\n",
    "        is_on = False \n",
    "    elif choice == 'report':\n",
    "        coffee_maker.report()\n",
    "        money_bank.report()\n",
    "    else:\n",
    "        drink = menu_maker.find_drink(choice)\n",
    "    if coffee_maker.is_resource_sufficient(drink) and money_bank.make_payment(drink.cost) :\n",
    "        coffee_maker.make_coffee(drink)"
   ]
  },
  {
   "cell_type": "code",
   "execution_count": null,
   "id": "9384aab5",
   "metadata": {},
   "outputs": [],
   "source": []
  }
 ],
 "metadata": {
  "kernelspec": {
   "display_name": "Python 3",
   "language": "python",
   "name": "python3"
  },
  "language_info": {
   "codemirror_mode": {
    "name": "ipython",
    "version": 3
   },
   "file_extension": ".py",
   "mimetype": "text/x-python",
   "name": "python",
   "nbconvert_exporter": "python",
   "pygments_lexer": "ipython3",
   "version": "3.8.8"
  }
 },
 "nbformat": 4,
 "nbformat_minor": 5
}
