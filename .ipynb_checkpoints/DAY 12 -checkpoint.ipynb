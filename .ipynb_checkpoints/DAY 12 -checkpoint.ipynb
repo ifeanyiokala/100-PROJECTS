{
 "cells": [
  {
   "cell_type": "markdown",
   "id": "d32f252a",
   "metadata": {},
   "source": [
    "# GUESSING GAME"
   ]
  },
  {
   "cell_type": "code",
   "execution_count": 3,
   "id": "450b3b6f",
   "metadata": {},
   "outputs": [
    {
     "name": "stdout",
     "output_type": "stream",
     "text": [
      "\n",
      "  / _ \\_   _  ___  ___ ___  /__   \\ |__   ___    /\\ \\ \\_   _ _ __ ___ | |__   ___ _ __ \n",
      " / /_\\/ | | |/ _ \\/ __/ __|   / /\\/ '_ \\ / _ \\  /  \\/ / | | | '_ ` _ \\| '_ \\ / _ \\ '__|\n",
      "/ /_\\| |_| |  __/\\__ \\__ \\  / /  | | | |  __/ / /\\  /| |_| | | | | | | |_) |  __/ |   \n",
      "\\____/ \\__,_|\\___||___/___/  \\/   |_| |_|\\___| \\_\\ \\/  \\__,_|_| |_| |_|_.__/ \\___|_|  \n",
      "\n",
      "Welcome to the Number Guessing Game !\n",
      "What is your preferred level of difficulty ?, Hard or Easy? : Hard\n",
      "Pick a number from 1 to 100 : 2\n",
      "It's just a bit too low\n",
      "Number of lives left : 5 \n",
      "Pick a number from 1 to 100 : 34\n",
      "It's really high,you need to cut it\n",
      "Number of lives left : 4 \n",
      "Pick a number from 1 to 100 : 57\n",
      "It's really high,you need to cut it\n",
      "Number of lives left : 3 \n",
      "Pick a number from 1 to 100 : 89\n",
      "It's really high,you need to cut it\n",
      "Number of lives left : 2 \n",
      "Pick a number from 1 to 100 : 54\n",
      "It's really high,you need to cut it\n",
      "Number of lives left : 1 \n",
      "Pick a number from 1 to 100 : 32\n",
      "It's really high,you need to cut it\n",
      "Number of lives left : 0 \n",
      "You've run out of lives,the correct answer was 3\n"
     ]
    }
   ],
   "source": [
    "import random\n",
    "from guess import logo\n",
    "print(logo)\n",
    "print(\"Welcome to the Number Guessing Game !\")\n",
    "Mode = input(\"What is your preferred level of difficulty ?, Hard or Easy? : \")\n",
    "\n",
    "\n",
    "if Mode == \"Easy\":\n",
    "    Lives = 11\n",
    "else : \n",
    "    Lives = 6 \n",
    "\n",
    "answer = random.randint(1,101)\n",
    "\n",
    "score = True \n",
    "choice = 1 \n",
    "\n",
    "\n",
    "while score : \n",
    "    number = int(input(\"Pick a number from 1 to 100 : \"))\n",
    "\n",
    "    if number == answer:\n",
    "        score = False\n",
    "        print(\"You got the correct answer\")\n",
    "    elif number < answer :\n",
    "        print(\"It's just a bit too low\")\n",
    "    elif number > answer :\n",
    "        print(\"It's really high,you need to cut it\")\n",
    "    else:\n",
    "        print(\"You are somewhere i do not know\")\n",
    "    Lives -= 1\n",
    "    print(f\"Number of lives left : {Lives} \")\n",
    "    if Lives == 0 :\n",
    "        score = False\n",
    "        print(f\"You've run out of lives,the correct answer was {answer}\")\n"
   ]
  },
  {
   "cell_type": "code",
   "execution_count": null,
   "id": "6c33715c",
   "metadata": {},
   "outputs": [],
   "source": []
  }
 ],
 "metadata": {
  "kernelspec": {
   "display_name": "Python 3",
   "language": "python",
   "name": "python3"
  },
  "language_info": {
   "codemirror_mode": {
    "name": "ipython",
    "version": 3
   },
   "file_extension": ".py",
   "mimetype": "text/x-python",
   "name": "python",
   "nbconvert_exporter": "python",
   "pygments_lexer": "ipython3",
   "version": "3.8.8"
  }
 },
 "nbformat": 4,
 "nbformat_minor": 5
}
