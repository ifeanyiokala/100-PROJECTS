{
 "cells": [
  {
   "cell_type": "markdown",
   "id": "182e676f",
   "metadata": {},
   "source": [
    "# TREASURE ISLAND GAME "
   ]
  },
  {
   "cell_type": "code",
   "execution_count": 24,
   "id": "196525b1",
   "metadata": {},
   "outputs": [
    {
     "name": "stdout",
     "output_type": "stream",
     "text": [
      "\n",
      "\n",
      "*******************************************************************************\n",
      "          |                   |                  |                     |\n",
      " _________|________________.=\"\"_;=.______________|_____________________|_______\n",
      "|                   |  ,-\"_,=\"\"     `\"=.|                  |\n",
      "|___________________|__\"=._o`\"-._        `\"=.______________|___________________\n",
      "          |                `\"=._o`\"=._      _`\"=._                     |\n",
      " _________|_____________________:=._o \"=._.\"_.-=\"'\"=.__________________|_______\n",
      "|                   |    __.--\" , ; `\"=._o.\" ,-\"\"\"-._ \".   |\n",
      "|___________________|_._\"  ,. .` ` `` ,  `\"-._\"-._   \". '__|___________________\n",
      "          |           |o`\"=._` , \"` `; .\". ,  \"-._\"-._; ;              |\n",
      " _________|___________| ;`-.o`\"=._; .\" ` '`.\"\\` . \"-._ /_______________|_______\n",
      "|                   | |o;    `\"-.o`\"=._``  '` \" ,__.--o;   |\n",
      "|___________________|_| ;     (#) `-.o `\"=.`_.--\"_o.-; ;___|___________________\n",
      "____/______/______/___|o;._    \"      `\".o|o_.--\"    ;o;____/______/______/____\n",
      "/______/______/______/_\"=._o--._        ; | ;        ; ;/______/______/______/_\n",
      "____/______/______/______/__\"=._o--._   ;o|o;     _._;o;____/______/______/____\n",
      "/______/______/______/______/____\"=._o._; | ;_.--\"o.--\"_/______/______/______/_\n",
      "____/______/______/______/______/_____\"=.o|o_.--\"\"___/______/______/______/____\n",
      "/______/______/______/______/______/______/______/______/______/______/[TomekK]\n",
      "*******************************************************************************         \n",
      "      \n",
      "      \n",
      "Welcome to the treasure island Game\n",
      "\n",
      "Your goal is to find the treasure\n",
      "\n",
      "\"You're at a crossroad. Where do you want to go? Type \"left\" or \"right\" \n",
      "left\n",
      "\"You've come to a late.There is an island in the middle of the lake. Type \"wait\" to wait for the boat.Type \"swim\" to swim across\n",
      "wait\n",
      "It's getting cold and you need to get warm . Type \"heat\" to go find wood to burn.Type \"burden\" to hold on\n",
      "heat\n",
      "\"You made the right choice and you've arrived at the island unharmed.There is a house with 3 doors,\n",
      " One red,\n",
      " one yellow,\n",
      " one blue,\n",
      " one green. Which color would you use?red\n",
      "You were consumed by flames, Game Over\n"
     ]
    }
   ],
   "source": [
    "print('''\n",
    "\n",
    "*******************************************************************************\n",
    "          |                   |                  |                     |\n",
    " _________|________________.=\"\"_;=.______________|_____________________|_______\n",
    "|                   |  ,-\"_,=\"\"     `\"=.|                  |\n",
    "|___________________|__\"=._o`\"-._        `\"=.______________|___________________\n",
    "          |                `\"=._o`\"=._      _`\"=._                     |\n",
    " _________|_____________________:=._o \"=._.\"_.-=\"'\"=.__________________|_______\n",
    "|                   |    __.--\" , ; `\"=._o.\" ,-\"\"\"-._ \".   |\n",
    "|___________________|_._\"  ,. .` ` `` ,  `\"-._\"-._   \". '__|___________________\n",
    "          |           |o`\"=._` , \"` `; .\". ,  \"-._\"-._; ;              |\n",
    " _________|___________| ;`-.o`\"=._; .\" ` '`.\"\\` . \"-._ /_______________|_______\n",
    "|                   | |o;    `\"-.o`\"=._``  '` \" ,__.--o;   |\n",
    "|___________________|_| ;     (#) `-.o `\"=.`_.--\"_o.-; ;___|___________________\n",
    "____/______/______/___|o;._    \"      `\".o|o_.--\"    ;o;____/______/______/____\n",
    "/______/______/______/_\"=._o--._        ; | ;        ; ;/______/______/______/_\n",
    "____/______/______/______/__\"=._o--._   ;o|o;     _._;o;____/______/______/____\n",
    "/______/______/______/______/____\"=._o._; | ;_.--\"o.--\"_/______/______/______/_\n",
    "____/______/______/______/______/_____\"=.o|o_.--\"\"___/______/______/______/____\n",
    "/______/______/______/______/______/______/______/______/______/______/[TomekK]\n",
    "*******************************************************************************         \n",
    "      \n",
    "      ''')\n",
    "\n",
    "\n",
    "print('Welcome to the treasure island Game\\n')\n",
    "\n",
    "print('Your goal is to find the treasure\\n')\n",
    "\n",
    "#i wrote the code below \n",
    "cross = input(\"\"\"\"You're at a crossroad. Where do you want to go? Type \"left\" or \"right\" \\n\"\"\").lower()\n",
    "if cross == 'left':\n",
    "    lake = input(\"\"\"\"You've come to a late.There is an island in the middle of the lake. Type \"wait\" to wait for the boat.Type \"swim\" to swim across\\n\"\"\").lower()\n",
    "    if lake =='wait':\n",
    "        food = input(\"\"\"It's getting cold and you need to get warm . Type \"heat\" to go find wood to burn.Type \"burden\" to hold on\\n\"\"\").lower()\n",
    "        if food == 'burden':\n",
    "            print('Game Over,you could not withstand the cold')\n",
    "        else:\n",
    "            door = input(\"\"\"\"You made the right choice and you've arrived at the island unharmed.There is a house with 3 doors,\\n One red,\\n one yellow,\\n one blue,\\n one green. Which color would you use?\"\"\").lower()\n",
    "else:\n",
    "    door = print(\"\"\"\"Game Over,you fell into a rabbit hole\"\"\")\n",
    "\n",
    "if door == \"red\":\n",
    "    print('You were consumed by flames, Game Over')\n",
    "elif door == \"blue\":\n",
    "    print('You found the treausre,congrats')\n",
    "elif door == \"green\":\n",
    "    print(\"Game Over,this game doesn't exist\")\n",
    "else:\n",
    "    print(\"Game Over,you were beaten by buggsssss\")\n",
    "        \n"
   ]
  },
  {
   "cell_type": "code",
   "execution_count": null,
   "id": "5ddc0f14",
   "metadata": {},
   "outputs": [],
   "source": []
  }
 ],
 "metadata": {
  "kernelspec": {
   "display_name": "Python 3",
   "language": "python",
   "name": "python3"
  },
  "language_info": {
   "codemirror_mode": {
    "name": "ipython",
    "version": 3
   },
   "file_extension": ".py",
   "mimetype": "text/x-python",
   "name": "python",
   "nbconvert_exporter": "python",
   "pygments_lexer": "ipython3",
   "version": "3.8.8"
  }
 },
 "nbformat": 4,
 "nbformat_minor": 5
}
