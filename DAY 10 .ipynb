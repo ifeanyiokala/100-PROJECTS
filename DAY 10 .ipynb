{
 "cells": [
  {
   "cell_type": "markdown",
   "id": "114d7a30",
   "metadata": {},
   "source": [
    "# CALCULATOR \n"
   ]
  },
  {
   "cell_type": "code",
   "execution_count": null,
   "id": "2de97704",
   "metadata": {},
   "outputs": [
    {
     "name": "stdout",
     "output_type": "stream",
     "text": [
      "\n",
      " _____________________\n",
      "|  _________________  |\n",
      "| | Pythonista   0. | |  .----------------.  .----------------.  .----------------.  .----------------. \n",
      "| |_________________| | | .--------------. || .--------------. || .--------------. || .--------------. |\n",
      "|  ___ ___ ___   ___  | | |     ______   | || |      __      | || |   _____      | || |     ______   | |\n",
      "| | 7 | 8 | 9 | | + | | | |   .' ___  |  | || |     /  \\     | || |  |_   _|     | || |   .' ___  |  | |\n",
      "| |___|___|___| |___| | | |  / .'   \\_|  | || |    / /\\ \\    | || |    | |       | || |  / .'   \\_|  | |\n",
      "| | 4 | 5 | 6 | | - | | | |  | |         | || |   / ____ \\   | || |    | |   _   | || |  | |         | |\n",
      "| |___|___|___| |___| | | |  \\ `.___.'\\  | || | _/ /    \\ \\_ | || |   _| |__/ |  | || |  \\ `.___.'\\  | |\n",
      "| | 1 | 2 | 3 | | x | | | |   `._____.'  | || ||____|  |____|| || |  |________|  | || |   `._____.'  | |\n",
      "| |___|___|___| |___| | | |              | || |              | || |              | || |              | |\n",
      "| | . | 0 | = | | / | | | '--------------' || '--------------' || '--------------' || '--------------' |\n",
      "| |___|___|___| |___| |  '----------------'  '----------------'  '----------------'  '----------------' \n",
      "|_____________________|\n",
      "\n",
      "What's the first number?: 30\n",
      "+\n",
      "-\n",
      "*\n",
      "/\n",
      "Pick an operation from the line above : +\n",
      "What's the second number?: 30\n",
      "30.0 + 30.0 = 60.0\n"
     ]
    }
   ],
   "source": [
    "from calculate import logo \n",
    "#addition\n",
    "def add (n1,n2):\n",
    "    return n1 + n2\n",
    "\n",
    "#subtract\n",
    "def subtract(n1,n2):\n",
    "  return n1 - n2 \n",
    "\n",
    "#multiply \n",
    "def multiply(n1,n2):\n",
    "  return n1 * n2 \n",
    "\n",
    "#divide\n",
    "\n",
    "def divide(n1,n2):\n",
    "  return n1/n2\n",
    "\n",
    "operation = {\n",
    "\"+\":add,\n",
    "\"-\":subtract,\n",
    "\"*\":multiply,\n",
    "\"/\":divide}\n",
    "\n",
    "\n",
    "def calculator ():\n",
    "    print(logo)\n",
    "    num1 = float(input(\"What's the first number?: \"))\n",
    "\n",
    "\n",
    "    for i in operation :\n",
    "        print(i)\n",
    "\n",
    "    operation_symbol = input(\"Pick an operation from the line above : \")\n",
    "\n",
    "    num2 = float(input(\"What's the second number?: \"))\n",
    "\n",
    "    Choice = operation[operation_symbol]\n",
    "    solution = Choice(num1,num2)\n",
    "\n",
    "    print(f\"{num1} {operation_symbol} {num2} = {solution}\")\n",
    "    Trial = True \n",
    "    while Trial : \n",
    "\n",
    "        operation_symbol = input(\"Pick another operation: \")\n",
    "        num3 = float(input(\"What's the next number?: \"))\n",
    "\n",
    "        Choice = operation[operation_symbol]\n",
    "\n",
    "        second_solution = Choice(Choice(num1,num2), num3)\n",
    "\n",
    "        print(f\"{solution} {operation_symbol} {num3} = {second_solution}\")\n",
    "\n",
    "        user = input(f\"Type 'y' to continue calulating with {second_solution},or type 'n' to start a new calculation. : \")\n",
    "        if user == 'n':\n",
    "            Trial = False\n",
    "            calculator()\n",
    "        else : \n",
    "            solution = second_solution \n",
    "\n",
    "calculator()\n",
    "\n"
   ]
  },
  {
   "cell_type": "code",
   "execution_count": null,
   "id": "a32d3b6a",
   "metadata": {},
   "outputs": [],
   "source": []
  },
  {
   "cell_type": "code",
   "execution_count": null,
   "id": "7bf34e5e",
   "metadata": {},
   "outputs": [],
   "source": []
  }
 ],
 "metadata": {
  "kernelspec": {
   "display_name": "Python 3",
   "language": "python",
   "name": "python3"
  },
  "language_info": {
   "codemirror_mode": {
    "name": "ipython",
    "version": 3
   },
   "file_extension": ".py",
   "mimetype": "text/x-python",
   "name": "python",
   "nbconvert_exporter": "python",
   "pygments_lexer": "ipython3",
   "version": "3.8.8"
  }
 },
 "nbformat": 4,
 "nbformat_minor": 5
}
