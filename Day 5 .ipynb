{
 "cells": [
  {
   "cell_type": "markdown",
   "id": "9c552fbf",
   "metadata": {},
   "source": [
    "# PASSWORD GENERATOR PROJECT "
   ]
  },
  {
   "cell_type": "code",
   "execution_count": 61,
   "id": "fd068abb",
   "metadata": {},
   "outputs": [
    {
     "name": "stdout",
     "output_type": "stream",
     "text": [
      "Welcome to the PyPassword Generator!\n",
      "How many letters would you like in your password?\n",
      "3\n",
      "How many symbols would you like?\n",
      "4\n",
      "How many numbers would you like?\n",
      "5\n",
      "Would you want your password to be Randomised or not ? . Yes or No : Yes\n",
      "Your new password is : GTg52427&%!#\n",
      "\n"
     ]
    }
   ],
   "source": [
    "#Password Generator Project\n",
    "import random\n",
    "import string\n",
    "letters = ['a', 'b', 'c', 'd', 'e', 'f', 'g', 'h', 'i', 'j', 'k', 'l', 'm', 'n', 'o', 'p', 'q', 'r', 's', 't', 'u', 'v', 'w', 'x', 'y', 'z', 'A', 'B', 'C', 'D', 'E', 'F', 'G', 'H', 'I', 'J', 'K', 'L', 'M', 'N', 'O', 'P', 'Q', 'R', 'S', 'T', 'U', 'V', 'W', 'X', 'Y', 'Z']\n",
    "numbers = ['0', '1', '2', '3', '4', '5', '6', '7', '8', '9']\n",
    "symbols = ['!', '#', '$', '%', '&', '(', ')', '*', '+']\n",
    "\n",
    "print(\"Welcome to the PyPassword Generator!\")\n",
    "nr_letters= int(input(\"How many letters would you like in your password?\\n\")) \n",
    "nr_symbols = int(input(f\"How many symbols would you like?\\n\"))\n",
    "nr_numbers = int(input(f\"How many numbers would you like?\\n\"))\n",
    "Shuffle = str(input(\"Would you want your password to be Randomised or not ? . Yes or No : \"))\n",
    "\n",
    "#Eazy Level - Order not randomised:\n",
    "#e.g. 4 letter, 2 symbol, 2 number = JduE&!91\n",
    "\n",
    "\n",
    "#Hard Level - Order of characters randomised:\n",
    "#e.g. 4 letter, 2 symbol, 2 number = g^2jk8&P\n",
    "\n",
    "a = [random.choice(letters) for _ in range(nr_letters)]\n",
    "b = [random.choice(numbers) for _ in range(nr_numbers)]\n",
    "c = [random.choice(symbols) for _ in range(nr_symbols)]\n",
    "\n",
    "Password = a + b + c \n",
    "\n",
    "if Shuffle == 'Yes':\n",
    "    order = (\"\".join(Password))\n",
    "    print(f\"Your new password is : {order}\\n\")\n",
    "else :\n",
    "    random.shuffle(Password)\n",
    "    disorder = (\"\".join(Password))\n",
    "    print(f\"Your new password is : {disorder}\\n\")\n",
    "\n"
   ]
  }
 ],
 "metadata": {
  "kernelspec": {
   "display_name": "Python 3",
   "language": "python",
   "name": "python3"
  },
  "language_info": {
   "codemirror_mode": {
    "name": "ipython",
    "version": 3
   },
   "file_extension": ".py",
   "mimetype": "text/x-python",
   "name": "python",
   "nbconvert_exporter": "python",
   "pygments_lexer": "ipython3",
   "version": "3.8.8"
  }
 },
 "nbformat": 4,
 "nbformat_minor": 5
}
